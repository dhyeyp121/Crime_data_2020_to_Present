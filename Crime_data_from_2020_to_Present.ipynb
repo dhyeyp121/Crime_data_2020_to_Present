{
 "cells": [
  {
   "cell_type": "code",
   "execution_count": 18,
   "id": "e967c97d",
   "metadata": {},
   "outputs": [],
   "source": [
    "import pandas as pd\n",
    "import numpy as np"
   ]
  },
  {
   "cell_type": "code",
   "execution_count": 19,
   "id": "cfa436ae",
   "metadata": {},
   "outputs": [
    {
     "name": "stdout",
     "output_type": "stream",
     "text": [
      "       DR_NO               Date Rptd                DATE OCC  TIME OCC  AREA  \\\n",
      "0  190326475  03/01/2020 12:00:00 AM  03/01/2020 12:00:00 AM      2130     7   \n",
      "1  200106753  02/09/2020 12:00:00 AM  02/08/2020 12:00:00 AM      1800     1   \n",
      "2  200320258  11/11/2020 12:00:00 AM  11/04/2020 12:00:00 AM      1700     3   \n",
      "3  200907217  05/10/2023 12:00:00 AM  03/10/2020 12:00:00 AM      2037     9   \n",
      "4  220614831  08/18/2022 12:00:00 AM  08/17/2020 12:00:00 AM      1200     6   \n",
      "\n",
      "   AREA NAME  Rpt Dist No  Part 1-2  Crm Cd  \\\n",
      "0   Wilshire          784         1     510   \n",
      "1    Central          182         1     330   \n",
      "2  Southwest          356         1     480   \n",
      "3   Van Nuys          964         1     343   \n",
      "4  Hollywood          666         2     354   \n",
      "\n",
      "                                Crm Cd Desc  ... Status   Status Desc  \\\n",
      "0                          VEHICLE - STOLEN  ...     AA  Adult Arrest   \n",
      "1                     BURGLARY FROM VEHICLE  ...     IC   Invest Cont   \n",
      "2                             BIKE - STOLEN  ...     IC   Invest Cont   \n",
      "3  SHOPLIFTING-GRAND THEFT ($950.01 & OVER)  ...     IC   Invest Cont   \n",
      "4                         THEFT OF IDENTITY  ...     IC   Invest Cont   \n",
      "\n",
      "  Crm Cd 1 Crm Cd 2  Crm Cd 3 Crm Cd 4  \\\n",
      "0    510.0    998.0       NaN      NaN   \n",
      "1    330.0    998.0       NaN      NaN   \n",
      "2    480.0      NaN       NaN      NaN   \n",
      "3    343.0      NaN       NaN      NaN   \n",
      "4    354.0      NaN       NaN      NaN   \n",
      "\n",
      "                                   LOCATION Cross Street      LAT       LON  \n",
      "0   1900 S  LONGWOOD                     AV          NaN  34.0375 -118.3506  \n",
      "1   1000 S  FLOWER                       ST          NaN  34.0444 -118.2628  \n",
      "2   1400 W  37TH                         ST          NaN  34.0210 -118.3002  \n",
      "3  14000    RIVERSIDE                    DR          NaN  34.1576 -118.4387  \n",
      "4                         1900    TRANSIENT          NaN  34.0944 -118.3277  \n",
      "\n",
      "[5 rows x 28 columns]\n"
     ]
    }
   ],
   "source": [
    "csv_file_path = 'Crime_Data_from_2020_to_Present.csv'\n",
    "\n",
    "df_raw = pd.read_csv(csv_file_path)\n",
    "\n",
    "print(df_raw.head())"
   ]
  },
  {
   "cell_type": "code",
   "execution_count": 20,
   "id": "8809fccb",
   "metadata": {
    "scrolled": true
   },
   "outputs": [
    {
     "name": "stdout",
     "output_type": "stream",
     "text": [
      "<class 'pandas.core.frame.DataFrame'>\n",
      "RangeIndex: 901357 entries, 0 to 901356\n",
      "Data columns (total 28 columns):\n",
      " #   Column          Non-Null Count   Dtype  \n",
      "---  ------          --------------   -----  \n",
      " 0   DR_NO           901357 non-null  int64  \n",
      " 1   Date Rptd       901357 non-null  object \n",
      " 2   DATE OCC        901357 non-null  object \n",
      " 3   TIME OCC        901357 non-null  int64  \n",
      " 4   AREA            901357 non-null  int64  \n",
      " 5   AREA NAME       901357 non-null  object \n",
      " 6   Rpt Dist No     901357 non-null  int64  \n",
      " 7   Part 1-2        901357 non-null  int64  \n",
      " 8   Crm Cd          901357 non-null  int64  \n",
      " 9   Crm Cd Desc     901357 non-null  object \n",
      " 10  Mocodes         775767 non-null  object \n",
      " 11  Vict Age        901357 non-null  int64  \n",
      " 12  Vict Sex        781966 non-null  object \n",
      " 13  Vict Descent    781958 non-null  object \n",
      " 14  Premis Cd       901347 non-null  float64\n",
      " 15  Premis Desc     900807 non-null  object \n",
      " 16  Weapon Used Cd  312268 non-null  float64\n",
      " 17  Weapon Desc     312268 non-null  object \n",
      " 18  Status          901357 non-null  object \n",
      " 19  Status Desc     901357 non-null  object \n",
      " 20  Crm Cd 1        901346 non-null  float64\n",
      " 21  Crm Cd 2        65683 non-null   float64\n",
      " 22  Crm Cd 3        2213 non-null    float64\n",
      " 23  Crm Cd 4        64 non-null      float64\n",
      " 24  LOCATION        901357 non-null  object \n",
      " 25  Cross Street    142055 non-null  object \n",
      " 26  LAT             901357 non-null  float64\n",
      " 27  LON             901357 non-null  float64\n",
      "dtypes: float64(8), int64(7), object(13)\n",
      "memory usage: 192.6+ MB\n",
      "None\n"
     ]
    }
   ],
   "source": [
    "print(df_raw.info())"
   ]
  },
  {
   "cell_type": "code",
   "execution_count": 21,
   "id": "772335d0",
   "metadata": {},
   "outputs": [
    {
     "name": "stdout",
     "output_type": "stream",
     "text": [
      "(901357, 28)\n"
     ]
    }
   ],
   "source": [
    "print(df_raw.shape)"
   ]
  },
  {
   "cell_type": "code",
   "execution_count": 22,
   "id": "8f554b21",
   "metadata": {},
   "outputs": [
    {
     "name": "stdout",
     "output_type": "stream",
     "text": [
      "Requirement already satisfied: azure-storage-blob in /Users/dhyeypatel/anaconda3/lib/python3.11/site-packages (12.19.1)\n",
      "Requirement already satisfied: azure-core<2.0.0,>=1.28.0 in /Users/dhyeypatel/anaconda3/lib/python3.11/site-packages (from azure-storage-blob) (1.30.1)\n",
      "Requirement already satisfied: cryptography>=2.1.4 in /Users/dhyeypatel/anaconda3/lib/python3.11/site-packages (from azure-storage-blob) (41.0.2)\n",
      "Requirement already satisfied: typing-extensions>=4.3.0 in /Users/dhyeypatel/anaconda3/lib/python3.11/site-packages (from azure-storage-blob) (4.7.1)\n",
      "Requirement already satisfied: isodate>=0.6.1 in /Users/dhyeypatel/anaconda3/lib/python3.11/site-packages (from azure-storage-blob) (0.6.1)\n",
      "Requirement already satisfied: requests>=2.21.0 in /Users/dhyeypatel/anaconda3/lib/python3.11/site-packages (from azure-core<2.0.0,>=1.28.0->azure-storage-blob) (2.31.0)\n",
      "Requirement already satisfied: six>=1.11.0 in /Users/dhyeypatel/anaconda3/lib/python3.11/site-packages (from azure-core<2.0.0,>=1.28.0->azure-storage-blob) (1.16.0)\n",
      "Requirement already satisfied: cffi>=1.12 in /Users/dhyeypatel/anaconda3/lib/python3.11/site-packages (from cryptography>=2.1.4->azure-storage-blob) (1.15.1)\n",
      "Requirement already satisfied: pycparser in /Users/dhyeypatel/anaconda3/lib/python3.11/site-packages (from cffi>=1.12->cryptography>=2.1.4->azure-storage-blob) (2.21)\n",
      "Requirement already satisfied: charset-normalizer<4,>=2 in /Users/dhyeypatel/anaconda3/lib/python3.11/site-packages (from requests>=2.21.0->azure-core<2.0.0,>=1.28.0->azure-storage-blob) (2.0.4)\n",
      "Requirement already satisfied: idna<4,>=2.5 in /Users/dhyeypatel/anaconda3/lib/python3.11/site-packages (from requests>=2.21.0->azure-core<2.0.0,>=1.28.0->azure-storage-blob) (3.4)\n",
      "Requirement already satisfied: urllib3<3,>=1.21.1 in /Users/dhyeypatel/anaconda3/lib/python3.11/site-packages (from requests>=2.21.0->azure-core<2.0.0,>=1.28.0->azure-storage-blob) (1.26.16)\n",
      "Requirement already satisfied: certifi>=2017.4.17 in /Users/dhyeypatel/anaconda3/lib/python3.11/site-packages (from requests>=2.21.0->azure-core<2.0.0,>=1.28.0->azure-storage-blob) (2023.7.22)\n",
      "Note: you may need to restart the kernel to use updated packages.\n"
     ]
    }
   ],
   "source": [
    "pip install azure-storage-blob"
   ]
  },
  {
   "cell_type": "code",
   "execution_count": 23,
   "id": "0b68ab20",
   "metadata": {},
   "outputs": [],
   "source": [
    "from azure.storage.blob import BlobServiceClient, BlobClient, ContainerClient"
   ]
  },
  {
   "cell_type": "code",
   "execution_count": 25,
   "id": "3fbd937e",
   "metadata": {},
   "outputs": [],
   "source": [
    "ConnectionStringAzureStorage = \"DefaultEndpointsProtocol=https;AccountName=cis4400dhyey;AccountKey=Xo19BtGV/9+uXg0u93FpCdbBe5o/8bAbi2vG0rC91Di0Kr3wlC8ddIE6UAI58cpeaq8a3XIfOwBe+AStJHOfUQ==;EndpointSuffix=core.windows.net\"\n",
    "ContainerAzure = \"cis4400crimedata\"\n",
    "blob_name = \"Crime_Data_from_2020_to_Present.csv\"\n"
   ]
  },
  {
   "cell_type": "code",
   "execution_count": 28,
   "id": "e8c7f22d",
   "metadata": {},
   "outputs": [
    {
     "name": "stdout",
     "output_type": "stream",
     "text": [
      "Uploaded Crime_Data_from_2020_to_Present.csv to Azure Blob Storage in container cis4400crimedata.\n"
     ]
    }
   ],
   "source": [
    "blob_service_client = BlobServiceClient.from_connection_string(ConnectionStringAzureStorage)\n",
    "\n",
    "blob_client = blob_service_client.get_blob_client(container=ContainerAzure, blob=blob_name)\n",
    "\n",
    "blob_client.upload_blob(csv_file_path, overwrite=True)\n",
    "\n",
    "print(f\"Uploaded {blob_name} to Azure Blob Storage in container {ContainerAzure}.\")"
   ]
  },
  {
   "cell_type": "code",
   "execution_count": null,
   "id": "3828d0ef",
   "metadata": {},
   "outputs": [],
   "source": []
  }
 ],
 "metadata": {
  "kernelspec": {
   "display_name": "Python 3 (ipykernel)",
   "language": "python",
   "name": "python3"
  },
  "language_info": {
   "codemirror_mode": {
    "name": "ipython",
    "version": 3
   },
   "file_extension": ".py",
   "mimetype": "text/x-python",
   "name": "python",
   "nbconvert_exporter": "python",
   "pygments_lexer": "ipython3",
   "version": "3.11.4"
  }
 },
 "nbformat": 4,
 "nbformat_minor": 5
}
